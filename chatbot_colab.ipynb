{
  "cells": [
    {
      "cell_type": "code",
      "execution_count": 1,
      "metadata": {
        "colab": {
          "base_uri": "https://localhost:8080/"
        },
        "id": "IM22dd6IUfyd",
        "outputId": "5a8038e0-c638-431d-802f-5e1dcddefa62"
      },
      "outputs": [
        {
          "output_type": "stream",
          "name": "stdout",
          "text": [
            "Requirement already satisfied: spacy in /usr/local/lib/python3.10/dist-packages (3.7.5)\n",
            "Requirement already satisfied: spacy-legacy<3.1.0,>=3.0.11 in /usr/local/lib/python3.10/dist-packages (from spacy) (3.0.12)\n",
            "Requirement already satisfied: spacy-loggers<2.0.0,>=1.0.0 in /usr/local/lib/python3.10/dist-packages (from spacy) (1.0.5)\n",
            "Requirement already satisfied: murmurhash<1.1.0,>=0.28.0 in /usr/local/lib/python3.10/dist-packages (from spacy) (1.0.11)\n",
            "Requirement already satisfied: cymem<2.1.0,>=2.0.2 in /usr/local/lib/python3.10/dist-packages (from spacy) (2.0.10)\n",
            "Requirement already satisfied: preshed<3.1.0,>=3.0.2 in /usr/local/lib/python3.10/dist-packages (from spacy) (3.0.9)\n",
            "Requirement already satisfied: thinc<8.3.0,>=8.2.2 in /usr/local/lib/python3.10/dist-packages (from spacy) (8.2.5)\n",
            "Requirement already satisfied: wasabi<1.2.0,>=0.9.1 in /usr/local/lib/python3.10/dist-packages (from spacy) (1.1.3)\n",
            "Requirement already satisfied: srsly<3.0.0,>=2.4.3 in /usr/local/lib/python3.10/dist-packages (from spacy) (2.5.0)\n",
            "Requirement already satisfied: catalogue<2.1.0,>=2.0.6 in /usr/local/lib/python3.10/dist-packages (from spacy) (2.0.10)\n",
            "Requirement already satisfied: weasel<0.5.0,>=0.1.0 in /usr/local/lib/python3.10/dist-packages (from spacy) (0.4.1)\n",
            "Requirement already satisfied: typer<1.0.0,>=0.3.0 in /usr/local/lib/python3.10/dist-packages (from spacy) (0.15.1)\n",
            "Requirement already satisfied: tqdm<5.0.0,>=4.38.0 in /usr/local/lib/python3.10/dist-packages (from spacy) (4.67.1)\n",
            "Requirement already satisfied: requests<3.0.0,>=2.13.0 in /usr/local/lib/python3.10/dist-packages (from spacy) (2.32.3)\n",
            "Requirement already satisfied: pydantic!=1.8,!=1.8.1,<3.0.0,>=1.7.4 in /usr/local/lib/python3.10/dist-packages (from spacy) (2.10.3)\n",
            "Requirement already satisfied: jinja2 in /usr/local/lib/python3.10/dist-packages (from spacy) (3.1.4)\n",
            "Requirement already satisfied: setuptools in /usr/local/lib/python3.10/dist-packages (from spacy) (75.1.0)\n",
            "Requirement already satisfied: packaging>=20.0 in /usr/local/lib/python3.10/dist-packages (from spacy) (24.2)\n",
            "Requirement already satisfied: langcodes<4.0.0,>=3.2.0 in /usr/local/lib/python3.10/dist-packages (from spacy) (3.5.0)\n",
            "Requirement already satisfied: numpy>=1.19.0 in /usr/local/lib/python3.10/dist-packages (from spacy) (1.26.4)\n",
            "Requirement already satisfied: language-data>=1.2 in /usr/local/lib/python3.10/dist-packages (from langcodes<4.0.0,>=3.2.0->spacy) (1.3.0)\n",
            "Requirement already satisfied: annotated-types>=0.6.0 in /usr/local/lib/python3.10/dist-packages (from pydantic!=1.8,!=1.8.1,<3.0.0,>=1.7.4->spacy) (0.7.0)\n",
            "Requirement already satisfied: pydantic-core==2.27.1 in /usr/local/lib/python3.10/dist-packages (from pydantic!=1.8,!=1.8.1,<3.0.0,>=1.7.4->spacy) (2.27.1)\n",
            "Requirement already satisfied: typing-extensions>=4.12.2 in /usr/local/lib/python3.10/dist-packages (from pydantic!=1.8,!=1.8.1,<3.0.0,>=1.7.4->spacy) (4.12.2)\n",
            "Requirement already satisfied: charset-normalizer<4,>=2 in /usr/local/lib/python3.10/dist-packages (from requests<3.0.0,>=2.13.0->spacy) (3.4.0)\n",
            "Requirement already satisfied: idna<4,>=2.5 in /usr/local/lib/python3.10/dist-packages (from requests<3.0.0,>=2.13.0->spacy) (3.10)\n",
            "Requirement already satisfied: urllib3<3,>=1.21.1 in /usr/local/lib/python3.10/dist-packages (from requests<3.0.0,>=2.13.0->spacy) (2.2.3)\n",
            "Requirement already satisfied: certifi>=2017.4.17 in /usr/local/lib/python3.10/dist-packages (from requests<3.0.0,>=2.13.0->spacy) (2024.12.14)\n",
            "Requirement already satisfied: blis<0.8.0,>=0.7.8 in /usr/local/lib/python3.10/dist-packages (from thinc<8.3.0,>=8.2.2->spacy) (0.7.11)\n",
            "Requirement already satisfied: confection<1.0.0,>=0.0.1 in /usr/local/lib/python3.10/dist-packages (from thinc<8.3.0,>=8.2.2->spacy) (0.1.5)\n",
            "Requirement already satisfied: click>=8.0.0 in /usr/local/lib/python3.10/dist-packages (from typer<1.0.0,>=0.3.0->spacy) (8.1.7)\n",
            "Requirement already satisfied: shellingham>=1.3.0 in /usr/local/lib/python3.10/dist-packages (from typer<1.0.0,>=0.3.0->spacy) (1.5.4)\n",
            "Requirement already satisfied: rich>=10.11.0 in /usr/local/lib/python3.10/dist-packages (from typer<1.0.0,>=0.3.0->spacy) (13.9.4)\n",
            "Requirement already satisfied: cloudpathlib<1.0.0,>=0.7.0 in /usr/local/lib/python3.10/dist-packages (from weasel<0.5.0,>=0.1.0->spacy) (0.20.0)\n",
            "Requirement already satisfied: smart-open<8.0.0,>=5.2.1 in /usr/local/lib/python3.10/dist-packages (from weasel<0.5.0,>=0.1.0->spacy) (7.1.0)\n",
            "Requirement already satisfied: MarkupSafe>=2.0 in /usr/local/lib/python3.10/dist-packages (from jinja2->spacy) (3.0.2)\n",
            "Requirement already satisfied: marisa-trie>=1.1.0 in /usr/local/lib/python3.10/dist-packages (from language-data>=1.2->langcodes<4.0.0,>=3.2.0->spacy) (1.2.1)\n",
            "Requirement already satisfied: markdown-it-py>=2.2.0 in /usr/local/lib/python3.10/dist-packages (from rich>=10.11.0->typer<1.0.0,>=0.3.0->spacy) (3.0.0)\n",
            "Requirement already satisfied: pygments<3.0.0,>=2.13.0 in /usr/local/lib/python3.10/dist-packages (from rich>=10.11.0->typer<1.0.0,>=0.3.0->spacy) (2.18.0)\n",
            "Requirement already satisfied: wrapt in /usr/local/lib/python3.10/dist-packages (from smart-open<8.0.0,>=5.2.1->weasel<0.5.0,>=0.1.0->spacy) (1.14.1)\n",
            "Requirement already satisfied: mdurl~=0.1 in /usr/local/lib/python3.10/dist-packages (from markdown-it-py>=2.2.0->rich>=10.11.0->typer<1.0.0,>=0.3.0->spacy) (0.1.2)\n",
            "Collecting en-core-web-sm==3.7.1\n",
            "  Downloading https://github.com/explosion/spacy-models/releases/download/en_core_web_sm-3.7.1/en_core_web_sm-3.7.1-py3-none-any.whl (12.8 MB)\n",
            "\u001b[2K     \u001b[90m━━━━━━━━━━━━━━━━━━━━━━━━━━━━━━━━━━━━━━━━\u001b[0m \u001b[32m12.8/12.8 MB\u001b[0m \u001b[31m82.8 MB/s\u001b[0m eta \u001b[36m0:00:00\u001b[0m\n",
            "\u001b[?25hRequirement already satisfied: spacy<3.8.0,>=3.7.2 in /usr/local/lib/python3.10/dist-packages (from en-core-web-sm==3.7.1) (3.7.5)\n",
            "Requirement already satisfied: spacy-legacy<3.1.0,>=3.0.11 in /usr/local/lib/python3.10/dist-packages (from spacy<3.8.0,>=3.7.2->en-core-web-sm==3.7.1) (3.0.12)\n",
            "Requirement already satisfied: spacy-loggers<2.0.0,>=1.0.0 in /usr/local/lib/python3.10/dist-packages (from spacy<3.8.0,>=3.7.2->en-core-web-sm==3.7.1) (1.0.5)\n",
            "Requirement already satisfied: murmurhash<1.1.0,>=0.28.0 in /usr/local/lib/python3.10/dist-packages (from spacy<3.8.0,>=3.7.2->en-core-web-sm==3.7.1) (1.0.11)\n",
            "Requirement already satisfied: cymem<2.1.0,>=2.0.2 in /usr/local/lib/python3.10/dist-packages (from spacy<3.8.0,>=3.7.2->en-core-web-sm==3.7.1) (2.0.10)\n",
            "Requirement already satisfied: preshed<3.1.0,>=3.0.2 in /usr/local/lib/python3.10/dist-packages (from spacy<3.8.0,>=3.7.2->en-core-web-sm==3.7.1) (3.0.9)\n",
            "Requirement already satisfied: thinc<8.3.0,>=8.2.2 in /usr/local/lib/python3.10/dist-packages (from spacy<3.8.0,>=3.7.2->en-core-web-sm==3.7.1) (8.2.5)\n",
            "Requirement already satisfied: wasabi<1.2.0,>=0.9.1 in /usr/local/lib/python3.10/dist-packages (from spacy<3.8.0,>=3.7.2->en-core-web-sm==3.7.1) (1.1.3)\n",
            "Requirement already satisfied: srsly<3.0.0,>=2.4.3 in /usr/local/lib/python3.10/dist-packages (from spacy<3.8.0,>=3.7.2->en-core-web-sm==3.7.1) (2.5.0)\n",
            "Requirement already satisfied: catalogue<2.1.0,>=2.0.6 in /usr/local/lib/python3.10/dist-packages (from spacy<3.8.0,>=3.7.2->en-core-web-sm==3.7.1) (2.0.10)\n",
            "Requirement already satisfied: weasel<0.5.0,>=0.1.0 in /usr/local/lib/python3.10/dist-packages (from spacy<3.8.0,>=3.7.2->en-core-web-sm==3.7.1) (0.4.1)\n",
            "Requirement already satisfied: typer<1.0.0,>=0.3.0 in /usr/local/lib/python3.10/dist-packages (from spacy<3.8.0,>=3.7.2->en-core-web-sm==3.7.1) (0.15.1)\n",
            "Requirement already satisfied: tqdm<5.0.0,>=4.38.0 in /usr/local/lib/python3.10/dist-packages (from spacy<3.8.0,>=3.7.2->en-core-web-sm==3.7.1) (4.67.1)\n",
            "Requirement already satisfied: requests<3.0.0,>=2.13.0 in /usr/local/lib/python3.10/dist-packages (from spacy<3.8.0,>=3.7.2->en-core-web-sm==3.7.1) (2.32.3)\n",
            "Requirement already satisfied: pydantic!=1.8,!=1.8.1,<3.0.0,>=1.7.4 in /usr/local/lib/python3.10/dist-packages (from spacy<3.8.0,>=3.7.2->en-core-web-sm==3.7.1) (2.10.3)\n",
            "Requirement already satisfied: jinja2 in /usr/local/lib/python3.10/dist-packages (from spacy<3.8.0,>=3.7.2->en-core-web-sm==3.7.1) (3.1.4)\n",
            "Requirement already satisfied: setuptools in /usr/local/lib/python3.10/dist-packages (from spacy<3.8.0,>=3.7.2->en-core-web-sm==3.7.1) (75.1.0)\n",
            "Requirement already satisfied: packaging>=20.0 in /usr/local/lib/python3.10/dist-packages (from spacy<3.8.0,>=3.7.2->en-core-web-sm==3.7.1) (24.2)\n",
            "Requirement already satisfied: langcodes<4.0.0,>=3.2.0 in /usr/local/lib/python3.10/dist-packages (from spacy<3.8.0,>=3.7.2->en-core-web-sm==3.7.1) (3.5.0)\n",
            "Requirement already satisfied: numpy>=1.19.0 in /usr/local/lib/python3.10/dist-packages (from spacy<3.8.0,>=3.7.2->en-core-web-sm==3.7.1) (1.26.4)\n",
            "Requirement already satisfied: language-data>=1.2 in /usr/local/lib/python3.10/dist-packages (from langcodes<4.0.0,>=3.2.0->spacy<3.8.0,>=3.7.2->en-core-web-sm==3.7.1) (1.3.0)\n",
            "Requirement already satisfied: annotated-types>=0.6.0 in /usr/local/lib/python3.10/dist-packages (from pydantic!=1.8,!=1.8.1,<3.0.0,>=1.7.4->spacy<3.8.0,>=3.7.2->en-core-web-sm==3.7.1) (0.7.0)\n",
            "Requirement already satisfied: pydantic-core==2.27.1 in /usr/local/lib/python3.10/dist-packages (from pydantic!=1.8,!=1.8.1,<3.0.0,>=1.7.4->spacy<3.8.0,>=3.7.2->en-core-web-sm==3.7.1) (2.27.1)\n",
            "Requirement already satisfied: typing-extensions>=4.12.2 in /usr/local/lib/python3.10/dist-packages (from pydantic!=1.8,!=1.8.1,<3.0.0,>=1.7.4->spacy<3.8.0,>=3.7.2->en-core-web-sm==3.7.1) (4.12.2)\n",
            "Requirement already satisfied: charset-normalizer<4,>=2 in /usr/local/lib/python3.10/dist-packages (from requests<3.0.0,>=2.13.0->spacy<3.8.0,>=3.7.2->en-core-web-sm==3.7.1) (3.4.0)\n",
            "Requirement already satisfied: idna<4,>=2.5 in /usr/local/lib/python3.10/dist-packages (from requests<3.0.0,>=2.13.0->spacy<3.8.0,>=3.7.2->en-core-web-sm==3.7.1) (3.10)\n",
            "Requirement already satisfied: urllib3<3,>=1.21.1 in /usr/local/lib/python3.10/dist-packages (from requests<3.0.0,>=2.13.0->spacy<3.8.0,>=3.7.2->en-core-web-sm==3.7.1) (2.2.3)\n",
            "Requirement already satisfied: certifi>=2017.4.17 in /usr/local/lib/python3.10/dist-packages (from requests<3.0.0,>=2.13.0->spacy<3.8.0,>=3.7.2->en-core-web-sm==3.7.1) (2024.12.14)\n",
            "Requirement already satisfied: blis<0.8.0,>=0.7.8 in /usr/local/lib/python3.10/dist-packages (from thinc<8.3.0,>=8.2.2->spacy<3.8.0,>=3.7.2->en-core-web-sm==3.7.1) (0.7.11)\n",
            "Requirement already satisfied: confection<1.0.0,>=0.0.1 in /usr/local/lib/python3.10/dist-packages (from thinc<8.3.0,>=8.2.2->spacy<3.8.0,>=3.7.2->en-core-web-sm==3.7.1) (0.1.5)\n",
            "Requirement already satisfied: click>=8.0.0 in /usr/local/lib/python3.10/dist-packages (from typer<1.0.0,>=0.3.0->spacy<3.8.0,>=3.7.2->en-core-web-sm==3.7.1) (8.1.7)\n",
            "Requirement already satisfied: shellingham>=1.3.0 in /usr/local/lib/python3.10/dist-packages (from typer<1.0.0,>=0.3.0->spacy<3.8.0,>=3.7.2->en-core-web-sm==3.7.1) (1.5.4)\n",
            "Requirement already satisfied: rich>=10.11.0 in /usr/local/lib/python3.10/dist-packages (from typer<1.0.0,>=0.3.0->spacy<3.8.0,>=3.7.2->en-core-web-sm==3.7.1) (13.9.4)\n",
            "Requirement already satisfied: cloudpathlib<1.0.0,>=0.7.0 in /usr/local/lib/python3.10/dist-packages (from weasel<0.5.0,>=0.1.0->spacy<3.8.0,>=3.7.2->en-core-web-sm==3.7.1) (0.20.0)\n",
            "Requirement already satisfied: smart-open<8.0.0,>=5.2.1 in /usr/local/lib/python3.10/dist-packages (from weasel<0.5.0,>=0.1.0->spacy<3.8.0,>=3.7.2->en-core-web-sm==3.7.1) (7.1.0)\n",
            "Requirement already satisfied: MarkupSafe>=2.0 in /usr/local/lib/python3.10/dist-packages (from jinja2->spacy<3.8.0,>=3.7.2->en-core-web-sm==3.7.1) (3.0.2)\n",
            "Requirement already satisfied: marisa-trie>=1.1.0 in /usr/local/lib/python3.10/dist-packages (from language-data>=1.2->langcodes<4.0.0,>=3.2.0->spacy<3.8.0,>=3.7.2->en-core-web-sm==3.7.1) (1.2.1)\n",
            "Requirement already satisfied: markdown-it-py>=2.2.0 in /usr/local/lib/python3.10/dist-packages (from rich>=10.11.0->typer<1.0.0,>=0.3.0->spacy<3.8.0,>=3.7.2->en-core-web-sm==3.7.1) (3.0.0)\n",
            "Requirement already satisfied: pygments<3.0.0,>=2.13.0 in /usr/local/lib/python3.10/dist-packages (from rich>=10.11.0->typer<1.0.0,>=0.3.0->spacy<3.8.0,>=3.7.2->en-core-web-sm==3.7.1) (2.18.0)\n",
            "Requirement already satisfied: wrapt in /usr/local/lib/python3.10/dist-packages (from smart-open<8.0.0,>=5.2.1->weasel<0.5.0,>=0.1.0->spacy<3.8.0,>=3.7.2->en-core-web-sm==3.7.1) (1.14.1)\n",
            "Requirement already satisfied: mdurl~=0.1 in /usr/local/lib/python3.10/dist-packages (from markdown-it-py>=2.2.0->rich>=10.11.0->typer<1.0.0,>=0.3.0->spacy<3.8.0,>=3.7.2->en-core-web-sm==3.7.1) (0.1.2)\n",
            "\u001b[38;5;2m✔ Download and installation successful\u001b[0m\n",
            "You can now load the package via spacy.load('en_core_web_sm')\n",
            "\u001b[38;5;3m⚠ Restart to reload dependencies\u001b[0m\n",
            "If you are in a Jupyter or Colab notebook, you may need to restart Python in\n",
            "order to load all the package's dependencies. You can do this by selecting the\n",
            "'Restart kernel' or 'Restart runtime' option.\n"
          ]
        }
      ],
      "source": [
        "!pip install spacy\n",
        "!python -m spacy download en_core_web_sm"
      ]
    },
    {
      "cell_type": "code",
      "execution_count": 2,
      "metadata": {
        "id": "ANvq0Fq2Ufyf"
      },
      "outputs": [],
      "source": [
        "from tensorflow.keras.preprocessing.text import Tokenizer\n",
        "from keras.preprocessing.sequence import pad_sequences\n",
        "from keras.models import Sequential, load_model, Model\n",
        "from keras.layers import Dense, Embedding, LSTM, Input, Activation, Permute, Dropout, add, dot, concatenate\n",
        "from keras.utils import to_categorical\n",
        "from pickle import dump, load\n",
        "from nltk.corpus import words\n",
        "import nltk\n",
        "import spacy\n",
        "import keras\n",
        "\n",
        "import numpy as np\n",
        "import random\n",
        "import re\n",
        "\n",
        "random.seed(42)"
      ]
    },
    {
      "cell_type": "code",
      "execution_count": 3,
      "metadata": {
        "id": "I2XGYtWGUfyj"
      },
      "outputs": [],
      "source": [
        "nlp = spacy.load('en_core_web_sm')"
      ]
    },
    {
      "cell_type": "code",
      "execution_count": null,
      "metadata": {
        "id": "JW6jqgjkUfyk"
      },
      "outputs": [],
      "source": [
        "%reset -f"
      ]
    },
    {
      "cell_type": "markdown",
      "metadata": {
        "id": "pVfCk0-fUfyl"
      },
      "source": [
        "## Load Dataset"
      ]
    },
    {
      "cell_type": "code",
      "execution_count": 4,
      "metadata": {
        "id": "rZB-giS9Ufyo"
      },
      "outputs": [],
      "source": [
        "with open('qa6_yes-no-questions_test.txt', 'rb') as f:\n",
        "    text_test = f.read().decode('utf-8')\n",
        "\n",
        "with open('qa6_yes-no-questions_train.txt', 'rb') as f:\n",
        "    text_train = f.read().decode('utf-8')"
      ]
    },
    {
      "cell_type": "code",
      "execution_count": null,
      "metadata": {
        "id": "jPspUfJRUfyr"
      },
      "outputs": [],
      "source": [
        "text_test;"
      ]
    },
    {
      "cell_type": "code",
      "execution_count": null,
      "metadata": {
        "id": "Fk2T3sGVUfyu",
        "tags": [
          "hide_output"
        ]
      },
      "outputs": [],
      "source": [
        "text_train;"
      ]
    },
    {
      "cell_type": "markdown",
      "metadata": {
        "id": "DSuOlRu-Ufyv"
      },
      "source": [
        "## Data Preprocessing"
      ]
    },
    {
      "cell_type": "code",
      "execution_count": 5,
      "metadata": {
        "id": "ui6fwD3dUfyw"
      },
      "outputs": [],
      "source": [
        "def preprocessing_data(txt):\n",
        "    data = []\n",
        "    record = []\n",
        "    temp = None\n",
        "    start = True\n",
        "    for sentence in txt.split('\\n'):\n",
        "        doc = nlp(sentence)\n",
        "        token = [i.text for i in doc]\n",
        "        if len(token) == 0:\n",
        "            break\n",
        "        if start:\n",
        "            if token[0] == '1':\n",
        "                temp = []\n",
        "            if temp:\n",
        "                record.append(temp)\n",
        "                record[0].extend(token[1:])\n",
        "                temp = []\n",
        "            else:\n",
        "                record.append(token[1:])\n",
        "            start = False\n",
        "        elif '?' in token:\n",
        "            record.append(token[1:-4])\n",
        "            record.append(token[-3])\n",
        "            temp = record[0].copy()\n",
        "            data.append(record.copy())\n",
        "            record = []\n",
        "            start = True\n",
        "        else:\n",
        "            record[0].extend(token[1:])\n",
        "    return data"
      ]
    },
    {
      "cell_type": "code",
      "execution_count": 6,
      "metadata": {
        "id": "K1sWxpocUfyx"
      },
      "outputs": [],
      "source": [
        "train_data = preprocessing_data(text_train)\n",
        "train_data;"
      ]
    },
    {
      "cell_type": "code",
      "execution_count": 7,
      "metadata": {
        "id": "6nqL16zPUfyy"
      },
      "outputs": [],
      "source": [
        "test_data = preprocessing_data(text_test)\n",
        "test_data;"
      ]
    },
    {
      "cell_type": "markdown",
      "metadata": {
        "id": "0HcKaEjeUfyz"
      },
      "source": [
        "## Create a Vocabulary to Store all Words"
      ]
    },
    {
      "cell_type": "code",
      "execution_count": 8,
      "metadata": {
        "id": "bGT-TwdwUfyz"
      },
      "outputs": [],
      "source": [
        "vocab = set()"
      ]
    },
    {
      "cell_type": "code",
      "execution_count": 9,
      "metadata": {
        "id": "tQZ1rTdbUfy0"
      },
      "outputs": [],
      "source": [
        "merged_data = train_data + test_data"
      ]
    },
    {
      "cell_type": "code",
      "execution_count": 10,
      "metadata": {
        "id": "q7ko2h65Ufy0"
      },
      "outputs": [],
      "source": [
        "for story, question, _ in merged_data:\n",
        "    vocab = vocab.union(set(story))\n",
        "    vocab = vocab.union(set(question))"
      ]
    },
    {
      "cell_type": "code",
      "execution_count": 11,
      "metadata": {
        "id": "Z9rf3fmTUfy0"
      },
      "outputs": [],
      "source": [
        "vocab.add('yes')\n",
        "vocab.add('no')\n",
        "vocab;"
      ]
    },
    {
      "cell_type": "code",
      "execution_count": 12,
      "metadata": {
        "id": "edeY_rgAUfy0"
      },
      "outputs": [],
      "source": [
        "VOCAB_LEN = len(vocab) + 1\n",
        "VOCAB_LEN;"
      ]
    },
    {
      "cell_type": "code",
      "execution_count": 13,
      "metadata": {
        "id": "mY5t6nVQUfy1"
      },
      "outputs": [],
      "source": [
        "MAX_STORY_LEN = max(len(data[0]) for data in merged_data)\n",
        "MAX_STORY_LEN;"
      ]
    },
    {
      "cell_type": "code",
      "execution_count": 14,
      "metadata": {
        "id": "OXIYjDBeUfy1"
      },
      "outputs": [],
      "source": [
        "MAX_QUESTION_LEN = max(len(data[1]) for data in merged_data)\n",
        "MAX_QUESTION_LEN;"
      ]
    },
    {
      "cell_type": "markdown",
      "metadata": {
        "id": "E6D-puAzUfy1"
      },
      "source": [
        "## Vectorize the Data"
      ]
    },
    {
      "cell_type": "code",
      "execution_count": 15,
      "metadata": {
        "id": "WwopqM21Ufy2"
      },
      "outputs": [],
      "source": [
        "tokenizer = Tokenizer(filters=[])\n",
        "tokenizer.fit_on_texts(vocab)"
      ]
    },
    {
      "cell_type": "code",
      "execution_count": 16,
      "metadata": {
        "id": "Zglz_EvNUfy2"
      },
      "outputs": [],
      "source": [
        "tokenizer.word_index;"
      ]
    },
    {
      "cell_type": "code",
      "execution_count": 17,
      "metadata": {
        "id": "d1FF1r1RUfy5"
      },
      "outputs": [],
      "source": [
        "# train_story_text = []\n",
        "# train_question_text = []\n",
        "# train_answers = []\n",
        "\n",
        "# for story,question,answer in train_data:\n",
        "#     train_story_text.append(story)\n",
        "#     train_question_text.append(question)\n",
        "\n",
        "# len(train_story_text)"
      ]
    },
    {
      "cell_type": "code",
      "execution_count": 18,
      "metadata": {
        "id": "hd6fl6_sUfy5"
      },
      "outputs": [],
      "source": [
        "# train_story_seq = tokenizer.texts_to_sequences(train_story_text)\n",
        "# len(train_story_seq)"
      ]
    },
    {
      "cell_type": "code",
      "execution_count": 19,
      "metadata": {
        "id": "AR8ylcjLUfy5"
      },
      "outputs": [],
      "source": [
        "def vectorize_stories(data, word_index=tokenizer.word_index, max_story_len=MAX_STORY_LEN, max_question_len=MAX_QUESTION_LEN):\n",
        "    story_vectors = []\n",
        "    question_vectors = []\n",
        "    answer_indices = []  # Use indices instead of one-hot vectors\n",
        "\n",
        "    for story, question, answer in data:\n",
        "        # Vectorize the story and question\n",
        "        story_vectors.append(\n",
        "            [word_index.get(word.lower(), 0) for word in story[-max_story_len:]]\n",
        "        )\n",
        "        question_vectors.append(\n",
        "            [word_index.get(word.lower(), 0) for word in question[-max_question_len:]]\n",
        "        )\n",
        "\n",
        "        # Store the answer as an index\n",
        "        answer_indices.append(word_index.get(answer.lower(), 0))\n",
        "\n",
        "    # Pad all sequences at once\n",
        "    story_vectors = pad_sequences(story_vectors, maxlen=max_story_len)\n",
        "    question_vectors = pad_sequences(question_vectors, maxlen=max_question_len)\n",
        "    answer_indices = np.array(answer_indices)\n",
        "\n",
        "    return story_vectors, question_vectors, answer_indices\n"
      ]
    },
    {
      "cell_type": "code",
      "execution_count": 20,
      "metadata": {
        "id": "spxcKdMIUfy5"
      },
      "outputs": [],
      "source": [
        "inputs_train, queries_train, answers_train = vectorize_stories(train_data)"
      ]
    },
    {
      "cell_type": "code",
      "execution_count": 21,
      "metadata": {
        "id": "Hh8XIt8VUfy5"
      },
      "outputs": [],
      "source": [
        "inputs_test, queries_test, answers_test = vectorize_stories(test_data)"
      ]
    },
    {
      "cell_type": "code",
      "execution_count": 22,
      "metadata": {
        "id": "RM-zuEHLUfy5"
      },
      "outputs": [],
      "source": [
        "inputs_train;"
      ]
    },
    {
      "cell_type": "code",
      "execution_count": 23,
      "metadata": {
        "id": "S8IooJPAUfy6"
      },
      "outputs": [],
      "source": [
        "inputs_test;"
      ]
    },
    {
      "cell_type": "code",
      "execution_count": 24,
      "metadata": {
        "colab": {
          "base_uri": "https://localhost:8080/"
        },
        "id": "bRLtFCq3Ufy6",
        "outputId": "67b8680d-3a05-43ad-a55b-a5f6942f2542"
      },
      "outputs": [
        {
          "output_type": "stream",
          "name": "stdout",
          "text": [
            "(10000, 38)\n"
          ]
        }
      ],
      "source": [
        "answers_train = to_categorical(answers_train, num_classes=(len(tokenizer.word_index) + 1))\n",
        "print(answers_train.shape)\n",
        "answers_train;"
      ]
    },
    {
      "cell_type": "code",
      "execution_count": 25,
      "metadata": {
        "colab": {
          "base_uri": "https://localhost:8080/"
        },
        "id": "d6-84VX-Ufy8",
        "outputId": "45300aca-54bf-46c3-b1a6-a54de0c9538a"
      },
      "outputs": [
        {
          "output_type": "stream",
          "name": "stdout",
          "text": [
            "(1000, 38)\n"
          ]
        }
      ],
      "source": [
        "answers_test = to_categorical(answers_test, num_classes=VOCAB_LEN)\n",
        "print(answers_test.shape)\n",
        "answers_test;"
      ]
    },
    {
      "cell_type": "markdown",
      "metadata": {
        "id": "oj0DJ791Ufy8"
      },
      "source": [
        "## Create End-to-End Memory Network (MemN2N) Model"
      ]
    },
    {
      "cell_type": "markdown",
      "metadata": {
        "id": "nJ8COF3IUfy9"
      },
      "source": [
        "### Input Placeholders for the Stories and Questions"
      ]
    },
    {
      "cell_type": "code",
      "execution_count": 26,
      "metadata": {
        "id": "QCjGh4QxUfy9"
      },
      "outputs": [],
      "source": [
        "input_sequence = Input((MAX_STORY_LEN, ))\n",
        "question = Input((MAX_QUESTION_LEN, ))"
      ]
    },
    {
      "cell_type": "markdown",
      "metadata": {
        "id": "L5zUxMsTUfy-"
      },
      "source": [
        "### Encoders"
      ]
    },
    {
      "cell_type": "code",
      "execution_count": 27,
      "metadata": {
        "id": "LEhG6Z_ZUfy-"
      },
      "outputs": [],
      "source": [
        "input_encoder_m = Sequential()\n",
        "input_encoder_m.add(Embedding(input_dim=VOCAB_LEN,output_dim=64))\n",
        "input_encoder_m.add(Dropout(0.3))"
      ]
    },
    {
      "cell_type": "code",
      "execution_count": 28,
      "metadata": {
        "id": "DA_1tkP8Ufy-"
      },
      "outputs": [],
      "source": [
        "input_encoder_c = Sequential()\n",
        "input_encoder_c.add(Embedding(input_dim=VOCAB_LEN,output_dim=MAX_QUESTION_LEN))\n",
        "input_encoder_c.add(Dropout(0.3))"
      ]
    },
    {
      "cell_type": "code",
      "execution_count": 29,
      "metadata": {
        "id": "XjWs8n39Ufy-"
      },
      "outputs": [],
      "source": [
        "question_encoder = Sequential()\n",
        "question_encoder.add(Embedding(input_dim=VOCAB_LEN, output_dim=64, input_length=MAX_QUESTION_LEN))\n",
        "question_encoder.add(Dropout(0.3))"
      ]
    },
    {
      "cell_type": "markdown",
      "metadata": {
        "id": "TYCbEQDXUfzM"
      },
      "source": [
        "### Encode the Sequences"
      ]
    },
    {
      "cell_type": "code",
      "execution_count": 30,
      "metadata": {
        "id": "6isWU95VUfzM"
      },
      "outputs": [],
      "source": [
        "input_encoded_m = input_encoder_m(input_sequence)\n",
        "input_encoded_c = input_encoder_c(input_sequence)\n",
        "question_encoded = question_encoder(question)"
      ]
    },
    {
      "cell_type": "code",
      "execution_count": 31,
      "metadata": {
        "id": "X3Kdd6bZUfzN"
      },
      "outputs": [],
      "source": [
        "match = dot([input_encoded_m, question_encoded], axes=(2, 2))\n",
        "match = Activation('softmax')(match)"
      ]
    },
    {
      "cell_type": "code",
      "execution_count": 32,
      "metadata": {
        "id": "eOI-gDp7UfzN"
      },
      "outputs": [],
      "source": [
        "response = add([match, input_encoded_c])  # (samples, story_maxlen, query_maxlen)\n",
        "response = Permute((2, 1))(response)  # (samples, query_maxlen, story_maxlen)"
      ]
    },
    {
      "cell_type": "code",
      "execution_count": 33,
      "metadata": {
        "id": "gimmKCMfUfzO"
      },
      "outputs": [],
      "source": [
        "answer = concatenate([response, question_encoded])\n",
        "answer = LSTM(32)(answer)  # (samples, 32)\n",
        "answer = Dropout(0.5)(answer)\n",
        "answer = Dense(VOCAB_LEN)(answer)  # (samples, vocab_size)\n",
        "answer = Activation('softmax')(answer)"
      ]
    },
    {
      "cell_type": "code",
      "execution_count": 42,
      "metadata": {
        "id": "kBbETRW_UfzO"
      },
      "outputs": [],
      "source": [
        "model = Model([input_sequence, question], answer)\n",
        "model.compile(optimizer='rmsprop', loss='categorical_crossentropy', metrics=['accuracy'])\n",
        "# model.summary();"
      ]
    },
    {
      "cell_type": "markdown",
      "metadata": {
        "id": "j9DWgegRUfzO"
      },
      "source": [
        "## Train the Model"
      ]
    },
    {
      "cell_type": "code",
      "execution_count": 43,
      "metadata": {
        "colab": {
          "base_uri": "https://localhost:8080/"
        },
        "id": "UQM72AnPUfzO",
        "outputId": "a01daacb-c438-43e8-c6e6-dcc2f543661e"
      },
      "outputs": [
        {
          "output_type": "stream",
          "name": "stdout",
          "text": [
            "Epoch 1/150\n",
            "313/313 [==============================] - 6s 14ms/step - loss: 0.6598 - accuracy: 0.5769 - val_loss: 0.6506 - val_accuracy: 0.6020\n",
            "Epoch 2/150\n",
            "313/313 [==============================] - 4s 12ms/step - loss: 0.6520 - accuracy: 0.5978 - val_loss: 0.6196 - val_accuracy: 0.6510\n",
            "Epoch 3/150\n",
            "313/313 [==============================] - 4s 12ms/step - loss: 0.6368 - accuracy: 0.6217 - val_loss: 0.6121 - val_accuracy: 0.6800\n",
            "Epoch 4/150\n",
            "313/313 [==============================] - 4s 12ms/step - loss: 0.6298 - accuracy: 0.6348 - val_loss: 0.5998 - val_accuracy: 0.6640\n",
            "Epoch 5/150\n",
            "313/313 [==============================] - 4s 12ms/step - loss: 0.6169 - accuracy: 0.6436 - val_loss: 0.5931 - val_accuracy: 0.6880\n",
            "Epoch 6/150\n",
            "313/313 [==============================] - 4s 12ms/step - loss: 0.6149 - accuracy: 0.6472 - val_loss: 0.5851 - val_accuracy: 0.6800\n",
            "Epoch 7/150\n",
            "313/313 [==============================] - 4s 12ms/step - loss: 0.6022 - accuracy: 0.6546 - val_loss: 0.5832 - val_accuracy: 0.6890\n",
            "Epoch 8/150\n",
            "313/313 [==============================] - 4s 12ms/step - loss: 0.5965 - accuracy: 0.6634 - val_loss: 0.5917 - val_accuracy: 0.6870\n",
            "Epoch 9/150\n",
            "313/313 [==============================] - 4s 12ms/step - loss: 0.5994 - accuracy: 0.6692 - val_loss: 0.5863 - val_accuracy: 0.6910\n",
            "Epoch 10/150\n",
            "313/313 [==============================] - 4s 12ms/step - loss: 0.5919 - accuracy: 0.6771 - val_loss: 0.5656 - val_accuracy: 0.7080\n",
            "Epoch 11/150\n",
            "313/313 [==============================] - 4s 12ms/step - loss: 0.5928 - accuracy: 0.6768 - val_loss: 0.5651 - val_accuracy: 0.7030\n",
            "Epoch 12/150\n",
            "313/313 [==============================] - 4s 12ms/step - loss: 0.5900 - accuracy: 0.6761 - val_loss: 0.5656 - val_accuracy: 0.7110\n",
            "Epoch 13/150\n",
            "313/313 [==============================] - 4s 12ms/step - loss: 0.5852 - accuracy: 0.6842 - val_loss: 0.5598 - val_accuracy: 0.7240\n",
            "Epoch 14/150\n",
            "313/313 [==============================] - 4s 12ms/step - loss: 0.5829 - accuracy: 0.6839 - val_loss: 0.5551 - val_accuracy: 0.7150\n",
            "Epoch 15/150\n",
            "313/313 [==============================] - 4s 12ms/step - loss: 0.5777 - accuracy: 0.6966 - val_loss: 0.5614 - val_accuracy: 0.7120\n",
            "Epoch 16/150\n",
            "313/313 [==============================] - 4s 12ms/step - loss: 0.5772 - accuracy: 0.6915 - val_loss: 0.5508 - val_accuracy: 0.7260\n",
            "Epoch 17/150\n",
            "313/313 [==============================] - 4s 12ms/step - loss: 0.5626 - accuracy: 0.7067 - val_loss: 0.5627 - val_accuracy: 0.7210\n",
            "Epoch 18/150\n",
            "313/313 [==============================] - 4s 12ms/step - loss: 0.5653 - accuracy: 0.7102 - val_loss: 0.5620 - val_accuracy: 0.7250\n",
            "Epoch 19/150\n",
            "313/313 [==============================] - 4s 12ms/step - loss: 0.5624 - accuracy: 0.7092 - val_loss: 0.5373 - val_accuracy: 0.7320\n",
            "Epoch 20/150\n",
            "313/313 [==============================] - 4s 12ms/step - loss: 0.5652 - accuracy: 0.7073 - val_loss: 0.5540 - val_accuracy: 0.7050\n",
            "Epoch 21/150\n",
            "313/313 [==============================] - 4s 12ms/step - loss: 0.5521 - accuracy: 0.7227 - val_loss: 0.5375 - val_accuracy: 0.7360\n",
            "Epoch 22/150\n",
            "313/313 [==============================] - 4s 12ms/step - loss: 0.5538 - accuracy: 0.7169 - val_loss: 0.5367 - val_accuracy: 0.7420\n",
            "Epoch 23/150\n",
            "313/313 [==============================] - 4s 12ms/step - loss: 0.5448 - accuracy: 0.7209 - val_loss: 0.5210 - val_accuracy: 0.7450\n",
            "Epoch 24/150\n",
            "313/313 [==============================] - 4s 12ms/step - loss: 0.5418 - accuracy: 0.7295 - val_loss: 0.5235 - val_accuracy: 0.7410\n",
            "Epoch 25/150\n",
            "313/313 [==============================] - 4s 12ms/step - loss: 0.5379 - accuracy: 0.7284 - val_loss: 0.5451 - val_accuracy: 0.7350\n",
            "Epoch 26/150\n",
            "313/313 [==============================] - 4s 12ms/step - loss: 0.5309 - accuracy: 0.7328 - val_loss: 0.5246 - val_accuracy: 0.7470\n",
            "Epoch 27/150\n",
            "313/313 [==============================] - 4s 12ms/step - loss: 0.5311 - accuracy: 0.7340 - val_loss: 0.5108 - val_accuracy: 0.7450\n",
            "Epoch 28/150\n",
            "313/313 [==============================] - 4s 12ms/step - loss: 0.5299 - accuracy: 0.7314 - val_loss: 0.5005 - val_accuracy: 0.7540\n",
            "Epoch 29/150\n",
            "313/313 [==============================] - 4s 12ms/step - loss: 0.5364 - accuracy: 0.7309 - val_loss: 0.5039 - val_accuracy: 0.7550\n",
            "Epoch 30/150\n",
            "313/313 [==============================] - 4s 12ms/step - loss: 0.5220 - accuracy: 0.7434 - val_loss: 0.5076 - val_accuracy: 0.7480\n",
            "Epoch 31/150\n",
            "313/313 [==============================] - 4s 12ms/step - loss: 0.5280 - accuracy: 0.7339 - val_loss: 0.5197 - val_accuracy: 0.7470\n",
            "Epoch 32/150\n",
            "313/313 [==============================] - 4s 12ms/step - loss: 0.5179 - accuracy: 0.7431 - val_loss: 0.5005 - val_accuracy: 0.7490\n",
            "Epoch 33/150\n",
            "313/313 [==============================] - 4s 12ms/step - loss: 0.5158 - accuracy: 0.7452 - val_loss: 0.4976 - val_accuracy: 0.7430\n",
            "Epoch 34/150\n",
            "313/313 [==============================] - 4s 12ms/step - loss: 0.5197 - accuracy: 0.7422 - val_loss: 0.5019 - val_accuracy: 0.7420\n",
            "Epoch 35/150\n",
            "313/313 [==============================] - 4s 12ms/step - loss: 0.5151 - accuracy: 0.7424 - val_loss: 0.5017 - val_accuracy: 0.7540\n",
            "Epoch 36/150\n",
            "313/313 [==============================] - 4s 12ms/step - loss: 0.5038 - accuracy: 0.7515 - val_loss: 0.5159 - val_accuracy: 0.7390\n",
            "Epoch 37/150\n",
            "313/313 [==============================] - 4s 12ms/step - loss: 0.5112 - accuracy: 0.7455 - val_loss: 0.5135 - val_accuracy: 0.7360\n",
            "Epoch 38/150\n",
            "313/313 [==============================] - 4s 12ms/step - loss: 0.5102 - accuracy: 0.7449 - val_loss: 0.5033 - val_accuracy: 0.7440\n",
            "Epoch 39/150\n",
            "313/313 [==============================] - 4s 12ms/step - loss: 0.5066 - accuracy: 0.7517 - val_loss: 0.5021 - val_accuracy: 0.7430\n",
            "Epoch 40/150\n",
            "313/313 [==============================] - 4s 12ms/step - loss: 0.4987 - accuracy: 0.7453 - val_loss: 0.5022 - val_accuracy: 0.7500\n",
            "Epoch 41/150\n",
            "313/313 [==============================] - 4s 12ms/step - loss: 0.4922 - accuracy: 0.7523 - val_loss: 0.4948 - val_accuracy: 0.7470\n",
            "Epoch 42/150\n",
            "313/313 [==============================] - 4s 12ms/step - loss: 0.4945 - accuracy: 0.7599 - val_loss: 0.4943 - val_accuracy: 0.7450\n",
            "Epoch 43/150\n",
            "313/313 [==============================] - 4s 12ms/step - loss: 0.4977 - accuracy: 0.7545 - val_loss: 0.4983 - val_accuracy: 0.7460\n",
            "Epoch 44/150\n",
            "313/313 [==============================] - 4s 12ms/step - loss: 0.4933 - accuracy: 0.7573 - val_loss: 0.5031 - val_accuracy: 0.7440\n",
            "Epoch 45/150\n",
            "313/313 [==============================] - 4s 12ms/step - loss: 0.4836 - accuracy: 0.7574 - val_loss: 0.4913 - val_accuracy: 0.7480\n",
            "Epoch 46/150\n",
            "313/313 [==============================] - 4s 12ms/step - loss: 0.4880 - accuracy: 0.7590 - val_loss: 0.4998 - val_accuracy: 0.7540\n",
            "Epoch 47/150\n",
            "313/313 [==============================] - 4s 12ms/step - loss: 0.4857 - accuracy: 0.7613 - val_loss: 0.5162 - val_accuracy: 0.7390\n",
            "Epoch 48/150\n",
            "313/313 [==============================] - 4s 12ms/step - loss: 0.4819 - accuracy: 0.7663 - val_loss: 0.5045 - val_accuracy: 0.7480\n",
            "Epoch 49/150\n",
            "313/313 [==============================] - 4s 11ms/step - loss: 0.4752 - accuracy: 0.7670 - val_loss: 0.5059 - val_accuracy: 0.7490\n",
            "Epoch 50/150\n",
            "313/313 [==============================] - 4s 12ms/step - loss: 0.4815 - accuracy: 0.7651 - val_loss: 0.4912 - val_accuracy: 0.7600\n",
            "Epoch 51/150\n",
            "313/313 [==============================] - 4s 12ms/step - loss: 0.4731 - accuracy: 0.7707 - val_loss: 0.4860 - val_accuracy: 0.7620\n",
            "Epoch 52/150\n",
            "313/313 [==============================] - 4s 12ms/step - loss: 0.4677 - accuracy: 0.7735 - val_loss: 0.4876 - val_accuracy: 0.7640\n",
            "Epoch 53/150\n",
            "313/313 [==============================] - 4s 12ms/step - loss: 0.4714 - accuracy: 0.7723 - val_loss: 0.4938 - val_accuracy: 0.7460\n",
            "Epoch 54/150\n",
            "313/313 [==============================] - 4s 12ms/step - loss: 0.4563 - accuracy: 0.7820 - val_loss: 0.5095 - val_accuracy: 0.7500\n",
            "Epoch 55/150\n",
            "313/313 [==============================] - 4s 12ms/step - loss: 0.4591 - accuracy: 0.7725 - val_loss: 0.5150 - val_accuracy: 0.7500\n",
            "Epoch 56/150\n",
            "313/313 [==============================] - 4s 12ms/step - loss: 0.4620 - accuracy: 0.7766 - val_loss: 0.5149 - val_accuracy: 0.7610\n",
            "Epoch 57/150\n",
            "313/313 [==============================] - 4s 12ms/step - loss: 0.4569 - accuracy: 0.7850 - val_loss: 0.5071 - val_accuracy: 0.7540\n",
            "Epoch 58/150\n",
            "313/313 [==============================] - 4s 12ms/step - loss: 0.4572 - accuracy: 0.7823 - val_loss: 0.4798 - val_accuracy: 0.7660\n",
            "Epoch 59/150\n",
            "313/313 [==============================] - 4s 12ms/step - loss: 0.4469 - accuracy: 0.7885 - val_loss: 0.4790 - val_accuracy: 0.7660\n",
            "Epoch 60/150\n",
            "313/313 [==============================] - 4s 12ms/step - loss: 0.4442 - accuracy: 0.7872 - val_loss: 0.4886 - val_accuracy: 0.7720\n",
            "Epoch 61/150\n",
            "313/313 [==============================] - 4s 12ms/step - loss: 0.4447 - accuracy: 0.7858 - val_loss: 0.4850 - val_accuracy: 0.7760\n",
            "Epoch 62/150\n",
            "313/313 [==============================] - 4s 12ms/step - loss: 0.4403 - accuracy: 0.7909 - val_loss: 0.5014 - val_accuracy: 0.7640\n",
            "Epoch 63/150\n",
            "313/313 [==============================] - 4s 12ms/step - loss: 0.4410 - accuracy: 0.7929 - val_loss: 0.4902 - val_accuracy: 0.7870\n",
            "Epoch 64/150\n",
            "313/313 [==============================] - 4s 12ms/step - loss: 0.4334 - accuracy: 0.7973 - val_loss: 0.4935 - val_accuracy: 0.7750\n",
            "Epoch 65/150\n",
            "313/313 [==============================] - 4s 12ms/step - loss: 0.4338 - accuracy: 0.7997 - val_loss: 0.4900 - val_accuracy: 0.7690\n",
            "Epoch 66/150\n",
            "313/313 [==============================] - 4s 12ms/step - loss: 0.4311 - accuracy: 0.8020 - val_loss: 0.4748 - val_accuracy: 0.7810\n",
            "Epoch 67/150\n",
            "313/313 [==============================] - 4s 12ms/step - loss: 0.4272 - accuracy: 0.8019 - val_loss: 0.4905 - val_accuracy: 0.7750\n",
            "Epoch 68/150\n",
            "313/313 [==============================] - 4s 12ms/step - loss: 0.4253 - accuracy: 0.8027 - val_loss: 0.4744 - val_accuracy: 0.7840\n",
            "Epoch 69/150\n",
            "313/313 [==============================] - 4s 12ms/step - loss: 0.4272 - accuracy: 0.8016 - val_loss: 0.4729 - val_accuracy: 0.7870\n",
            "Epoch 70/150\n",
            "313/313 [==============================] - 4s 12ms/step - loss: 0.4190 - accuracy: 0.8035 - val_loss: 0.4848 - val_accuracy: 0.7850\n",
            "Epoch 71/150\n",
            "313/313 [==============================] - 4s 12ms/step - loss: 0.4163 - accuracy: 0.8062 - val_loss: 0.4862 - val_accuracy: 0.7760\n",
            "Epoch 72/150\n",
            "313/313 [==============================] - 4s 12ms/step - loss: 0.4152 - accuracy: 0.8086 - val_loss: 0.4793 - val_accuracy: 0.7750\n",
            "Epoch 73/150\n",
            "313/313 [==============================] - 4s 12ms/step - loss: 0.4159 - accuracy: 0.8092 - val_loss: 0.4725 - val_accuracy: 0.7820\n",
            "Epoch 74/150\n",
            "313/313 [==============================] - 4s 12ms/step - loss: 0.4127 - accuracy: 0.8063 - val_loss: 0.4688 - val_accuracy: 0.7800\n",
            "Epoch 75/150\n",
            "313/313 [==============================] - 4s 12ms/step - loss: 0.4154 - accuracy: 0.8059 - val_loss: 0.4943 - val_accuracy: 0.7800\n",
            "Epoch 76/150\n",
            "313/313 [==============================] - 4s 12ms/step - loss: 0.4107 - accuracy: 0.8113 - val_loss: 0.4612 - val_accuracy: 0.7870\n",
            "Epoch 77/150\n",
            "313/313 [==============================] - 4s 12ms/step - loss: 0.4068 - accuracy: 0.8147 - val_loss: 0.4967 - val_accuracy: 0.7880\n",
            "Epoch 78/150\n",
            "313/313 [==============================] - 4s 12ms/step - loss: 0.3997 - accuracy: 0.8212 - val_loss: 0.4853 - val_accuracy: 0.7890\n",
            "Epoch 79/150\n",
            "313/313 [==============================] - 4s 12ms/step - loss: 0.4031 - accuracy: 0.8171 - val_loss: 0.4845 - val_accuracy: 0.7780\n",
            "Epoch 80/150\n",
            "313/313 [==============================] - 4s 12ms/step - loss: 0.4012 - accuracy: 0.8171 - val_loss: 0.4729 - val_accuracy: 0.7770\n",
            "Epoch 81/150\n",
            "313/313 [==============================] - 4s 12ms/step - loss: 0.3912 - accuracy: 0.8212 - val_loss: 0.4917 - val_accuracy: 0.7950\n",
            "Epoch 82/150\n",
            "313/313 [==============================] - 4s 12ms/step - loss: 0.3900 - accuracy: 0.8244 - val_loss: 0.4774 - val_accuracy: 0.7790\n",
            "Epoch 83/150\n",
            "313/313 [==============================] - 4s 12ms/step - loss: 0.3925 - accuracy: 0.8233 - val_loss: 0.4681 - val_accuracy: 0.7860\n",
            "Epoch 84/150\n",
            "313/313 [==============================] - 4s 12ms/step - loss: 0.3906 - accuracy: 0.8225 - val_loss: 0.4581 - val_accuracy: 0.7790\n",
            "Epoch 85/150\n",
            "313/313 [==============================] - 4s 12ms/step - loss: 0.3867 - accuracy: 0.8249 - val_loss: 0.4695 - val_accuracy: 0.7810\n",
            "Epoch 86/150\n",
            "313/313 [==============================] - 4s 12ms/step - loss: 0.3894 - accuracy: 0.8272 - val_loss: 0.4572 - val_accuracy: 0.7860\n",
            "Epoch 87/150\n",
            "313/313 [==============================] - 4s 12ms/step - loss: 0.3798 - accuracy: 0.8267 - val_loss: 0.4779 - val_accuracy: 0.7840\n",
            "Epoch 88/150\n",
            "313/313 [==============================] - 4s 12ms/step - loss: 0.3889 - accuracy: 0.8251 - val_loss: 0.4805 - val_accuracy: 0.7870\n",
            "Epoch 89/150\n",
            "313/313 [==============================] - 4s 12ms/step - loss: 0.3756 - accuracy: 0.8309 - val_loss: 0.4879 - val_accuracy: 0.7850\n",
            "Epoch 90/150\n",
            "313/313 [==============================] - 4s 12ms/step - loss: 0.3834 - accuracy: 0.8296 - val_loss: 0.4619 - val_accuracy: 0.7810\n",
            "Epoch 91/150\n",
            "313/313 [==============================] - 4s 12ms/step - loss: 0.3784 - accuracy: 0.8352 - val_loss: 0.4530 - val_accuracy: 0.7870\n",
            "Epoch 92/150\n",
            "313/313 [==============================] - 4s 12ms/step - loss: 0.3800 - accuracy: 0.8280 - val_loss: 0.4811 - val_accuracy: 0.7880\n",
            "Epoch 93/150\n",
            "313/313 [==============================] - 4s 12ms/step - loss: 0.3724 - accuracy: 0.8354 - val_loss: 0.4641 - val_accuracy: 0.7740\n",
            "Epoch 94/150\n",
            "313/313 [==============================] - 4s 12ms/step - loss: 0.3756 - accuracy: 0.8324 - val_loss: 0.4785 - val_accuracy: 0.7870\n",
            "Epoch 95/150\n",
            "313/313 [==============================] - 4s 12ms/step - loss: 0.3614 - accuracy: 0.8356 - val_loss: 0.4898 - val_accuracy: 0.7920\n",
            "Epoch 96/150\n",
            "313/313 [==============================] - 4s 12ms/step - loss: 0.3686 - accuracy: 0.8382 - val_loss: 0.4856 - val_accuracy: 0.7870\n",
            "Epoch 97/150\n",
            "313/313 [==============================] - 4s 12ms/step - loss: 0.3734 - accuracy: 0.8371 - val_loss: 0.4564 - val_accuracy: 0.7900\n",
            "Epoch 98/150\n",
            "313/313 [==============================] - 4s 12ms/step - loss: 0.3669 - accuracy: 0.8361 - val_loss: 0.4745 - val_accuracy: 0.7910\n",
            "Epoch 99/150\n",
            "313/313 [==============================] - 4s 12ms/step - loss: 0.3701 - accuracy: 0.8334 - val_loss: 0.4865 - val_accuracy: 0.7760\n",
            "Epoch 100/150\n",
            "313/313 [==============================] - 4s 12ms/step - loss: 0.3631 - accuracy: 0.8362 - val_loss: 0.4835 - val_accuracy: 0.7810\n",
            "Epoch 101/150\n",
            "313/313 [==============================] - 4s 12ms/step - loss: 0.3717 - accuracy: 0.8337 - val_loss: 0.4707 - val_accuracy: 0.7800\n",
            "Epoch 102/150\n",
            "313/313 [==============================] - 4s 12ms/step - loss: 0.3710 - accuracy: 0.8327 - val_loss: 0.4491 - val_accuracy: 0.7850\n",
            "Epoch 103/150\n",
            "313/313 [==============================] - 4s 12ms/step - loss: 0.3618 - accuracy: 0.8355 - val_loss: 0.4890 - val_accuracy: 0.7850\n",
            "Epoch 104/150\n",
            "313/313 [==============================] - 4s 12ms/step - loss: 0.3601 - accuracy: 0.8363 - val_loss: 0.4679 - val_accuracy: 0.7930\n",
            "Epoch 105/150\n",
            "313/313 [==============================] - 4s 12ms/step - loss: 0.3594 - accuracy: 0.8445 - val_loss: 0.4702 - val_accuracy: 0.7900\n",
            "Epoch 106/150\n",
            "313/313 [==============================] - 4s 12ms/step - loss: 0.3583 - accuracy: 0.8452 - val_loss: 0.4738 - val_accuracy: 0.7890\n",
            "Epoch 107/150\n",
            "313/313 [==============================] - 4s 12ms/step - loss: 0.3568 - accuracy: 0.8454 - val_loss: 0.4678 - val_accuracy: 0.7910\n",
            "Epoch 108/150\n",
            "313/313 [==============================] - 4s 12ms/step - loss: 0.3513 - accuracy: 0.8449 - val_loss: 0.4776 - val_accuracy: 0.7950\n",
            "Epoch 109/150\n",
            "313/313 [==============================] - 4s 12ms/step - loss: 0.3557 - accuracy: 0.8432 - val_loss: 0.4705 - val_accuracy: 0.7920\n",
            "Epoch 110/150\n",
            "313/313 [==============================] - 4s 12ms/step - loss: 0.3557 - accuracy: 0.8426 - val_loss: 0.4991 - val_accuracy: 0.7910\n",
            "Epoch 111/150\n",
            "313/313 [==============================] - 4s 12ms/step - loss: 0.3587 - accuracy: 0.8454 - val_loss: 0.5001 - val_accuracy: 0.7860\n",
            "Epoch 112/150\n",
            "313/313 [==============================] - 4s 12ms/step - loss: 0.3497 - accuracy: 0.8445 - val_loss: 0.4824 - val_accuracy: 0.7940\n",
            "Epoch 113/150\n",
            "313/313 [==============================] - 4s 12ms/step - loss: 0.3456 - accuracy: 0.8491 - val_loss: 0.4737 - val_accuracy: 0.7910\n",
            "Epoch 114/150\n",
            "313/313 [==============================] - 4s 12ms/step - loss: 0.3438 - accuracy: 0.8478 - val_loss: 0.4955 - val_accuracy: 0.7880\n",
            "Epoch 115/150\n",
            "313/313 [==============================] - 4s 12ms/step - loss: 0.3513 - accuracy: 0.8454 - val_loss: 0.4727 - val_accuracy: 0.7930\n",
            "Epoch 116/150\n",
            "313/313 [==============================] - 4s 12ms/step - loss: 0.3439 - accuracy: 0.8505 - val_loss: 0.4874 - val_accuracy: 0.7950\n",
            "Epoch 117/150\n",
            "313/313 [==============================] - 4s 12ms/step - loss: 0.3506 - accuracy: 0.8437 - val_loss: 0.4745 - val_accuracy: 0.7840\n",
            "Epoch 118/150\n",
            "313/313 [==============================] - 4s 12ms/step - loss: 0.3480 - accuracy: 0.8515 - val_loss: 0.4795 - val_accuracy: 0.7900\n",
            "Epoch 119/150\n",
            "313/313 [==============================] - 4s 12ms/step - loss: 0.3386 - accuracy: 0.8505 - val_loss: 0.5110 - val_accuracy: 0.7970\n",
            "Epoch 120/150\n",
            "313/313 [==============================] - 4s 12ms/step - loss: 0.3441 - accuracy: 0.8489 - val_loss: 0.4783 - val_accuracy: 0.7900\n",
            "Epoch 121/150\n",
            "313/313 [==============================] - 4s 12ms/step - loss: 0.3422 - accuracy: 0.8506 - val_loss: 0.5178 - val_accuracy: 0.7880\n",
            "Epoch 122/150\n",
            "313/313 [==============================] - 4s 12ms/step - loss: 0.3394 - accuracy: 0.8546 - val_loss: 0.4795 - val_accuracy: 0.7840\n",
            "Epoch 123/150\n",
            "313/313 [==============================] - 4s 12ms/step - loss: 0.3424 - accuracy: 0.8509 - val_loss: 0.4927 - val_accuracy: 0.7890\n",
            "Epoch 124/150\n",
            "313/313 [==============================] - 4s 12ms/step - loss: 0.3459 - accuracy: 0.8501 - val_loss: 0.4748 - val_accuracy: 0.7890\n",
            "Epoch 125/150\n",
            "313/313 [==============================] - 4s 12ms/step - loss: 0.3375 - accuracy: 0.8535 - val_loss: 0.5225 - val_accuracy: 0.7740\n",
            "Epoch 126/150\n",
            "313/313 [==============================] - 4s 12ms/step - loss: 0.3390 - accuracy: 0.8510 - val_loss: 0.4943 - val_accuracy: 0.7820\n",
            "Epoch 127/150\n",
            "313/313 [==============================] - 4s 12ms/step - loss: 0.3329 - accuracy: 0.8554 - val_loss: 0.5002 - val_accuracy: 0.7910\n",
            "Epoch 128/150\n",
            "313/313 [==============================] - 4s 12ms/step - loss: 0.3343 - accuracy: 0.8563 - val_loss: 0.4747 - val_accuracy: 0.7870\n",
            "Epoch 129/150\n",
            "313/313 [==============================] - 4s 12ms/step - loss: 0.3325 - accuracy: 0.8527 - val_loss: 0.4856 - val_accuracy: 0.7790\n",
            "Epoch 130/150\n",
            "313/313 [==============================] - 4s 12ms/step - loss: 0.3352 - accuracy: 0.8529 - val_loss: 0.4885 - val_accuracy: 0.7840\n",
            "Epoch 131/150\n",
            "313/313 [==============================] - 4s 12ms/step - loss: 0.3315 - accuracy: 0.8561 - val_loss: 0.4872 - val_accuracy: 0.7860\n",
            "Epoch 132/150\n",
            "313/313 [==============================] - 4s 12ms/step - loss: 0.3267 - accuracy: 0.8566 - val_loss: 0.5008 - val_accuracy: 0.7830\n",
            "Epoch 133/150\n",
            "313/313 [==============================] - 4s 12ms/step - loss: 0.3350 - accuracy: 0.8567 - val_loss: 0.5101 - val_accuracy: 0.7880\n",
            "Epoch 134/150\n",
            "313/313 [==============================] - 4s 12ms/step - loss: 0.3297 - accuracy: 0.8602 - val_loss: 0.5241 - val_accuracy: 0.7880\n",
            "Epoch 135/150\n",
            "313/313 [==============================] - 4s 12ms/step - loss: 0.3280 - accuracy: 0.8612 - val_loss: 0.4940 - val_accuracy: 0.7800\n",
            "Epoch 136/150\n",
            "313/313 [==============================] - 4s 12ms/step - loss: 0.3257 - accuracy: 0.8581 - val_loss: 0.4930 - val_accuracy: 0.7790\n",
            "Epoch 137/150\n",
            "313/313 [==============================] - 4s 12ms/step - loss: 0.3266 - accuracy: 0.8621 - val_loss: 0.5090 - val_accuracy: 0.7830\n",
            "Epoch 138/150\n",
            "313/313 [==============================] - 4s 12ms/step - loss: 0.3175 - accuracy: 0.8622 - val_loss: 0.5203 - val_accuracy: 0.7940\n",
            "Epoch 139/150\n",
            "313/313 [==============================] - 4s 12ms/step - loss: 0.3233 - accuracy: 0.8601 - val_loss: 0.5148 - val_accuracy: 0.7870\n",
            "Epoch 140/150\n",
            "313/313 [==============================] - 4s 12ms/step - loss: 0.3267 - accuracy: 0.8630 - val_loss: 0.5185 - val_accuracy: 0.7770\n",
            "Epoch 141/150\n",
            "313/313 [==============================] - 4s 12ms/step - loss: 0.3126 - accuracy: 0.8668 - val_loss: 0.5326 - val_accuracy: 0.7860\n",
            "Epoch 142/150\n",
            "313/313 [==============================] - 4s 12ms/step - loss: 0.3239 - accuracy: 0.8598 - val_loss: 0.5126 - val_accuracy: 0.7770\n",
            "Epoch 143/150\n",
            "313/313 [==============================] - 4s 12ms/step - loss: 0.3243 - accuracy: 0.8628 - val_loss: 0.5084 - val_accuracy: 0.7940\n",
            "Epoch 144/150\n",
            "313/313 [==============================] - 4s 12ms/step - loss: 0.3204 - accuracy: 0.8643 - val_loss: 0.5455 - val_accuracy: 0.7770\n",
            "Epoch 145/150\n",
            "313/313 [==============================] - 4s 12ms/step - loss: 0.3126 - accuracy: 0.8664 - val_loss: 0.5367 - val_accuracy: 0.7850\n",
            "Epoch 146/150\n",
            "313/313 [==============================] - 4s 12ms/step - loss: 0.3096 - accuracy: 0.8692 - val_loss: 0.5243 - val_accuracy: 0.7800\n",
            "Epoch 147/150\n",
            "313/313 [==============================] - 4s 12ms/step - loss: 0.3174 - accuracy: 0.8657 - val_loss: 0.5220 - val_accuracy: 0.7840\n",
            "Epoch 148/150\n",
            "313/313 [==============================] - 4s 12ms/step - loss: 0.3139 - accuracy: 0.8670 - val_loss: 0.5277 - val_accuracy: 0.7880\n",
            "Epoch 149/150\n",
            "313/313 [==============================] - 4s 12ms/step - loss: 0.3182 - accuracy: 0.8641 - val_loss: 0.5152 - val_accuracy: 0.7940\n",
            "Epoch 150/150\n",
            "313/313 [==============================] - 4s 12ms/step - loss: 0.3161 - accuracy: 0.8653 - val_loss: 0.4905 - val_accuracy: 0.7870\n"
          ]
        }
      ],
      "source": [
        "history = model.fit([inputs_train, queries_train], answers_train,batch_size=32,epochs=150,validation_data=([inputs_test, queries_test], answers_test))"
      ]
    },
    {
      "cell_type": "code",
      "execution_count": 40,
      "metadata": {
        "id": "5JYIgiMGUfzP"
      },
      "outputs": [],
      "source": [
        "filename = 'memn2n_150_epochs.h5'\n",
        "model.save(filename)"
      ]
    },
    {
      "cell_type": "code",
      "execution_count": 41,
      "metadata": {
        "colab": {
          "base_uri": "https://localhost:8080/",
          "height": 17
        },
        "id": "bI7_z2srUfzP",
        "outputId": "9ef852ee-65e1-4eea-c953-1e16d3535de2"
      },
      "outputs": [
        {
          "output_type": "display_data",
          "data": {
            "text/plain": [
              "<IPython.core.display.Javascript object>"
            ],
            "application/javascript": [
              "\n",
              "    async function download(id, filename, size) {\n",
              "      if (!google.colab.kernel.accessAllowed) {\n",
              "        return;\n",
              "      }\n",
              "      const div = document.createElement('div');\n",
              "      const label = document.createElement('label');\n",
              "      label.textContent = `Downloading \"${filename}\": `;\n",
              "      div.appendChild(label);\n",
              "      const progress = document.createElement('progress');\n",
              "      progress.max = size;\n",
              "      div.appendChild(progress);\n",
              "      document.body.appendChild(div);\n",
              "\n",
              "      const buffers = [];\n",
              "      let downloaded = 0;\n",
              "\n",
              "      const channel = await google.colab.kernel.comms.open(id);\n",
              "      // Send a message to notify the kernel that we're ready.\n",
              "      channel.send({})\n",
              "\n",
              "      for await (const message of channel.messages) {\n",
              "        // Send a message to notify the kernel that we're ready.\n",
              "        channel.send({})\n",
              "        if (message.buffers) {\n",
              "          for (const buffer of message.buffers) {\n",
              "            buffers.push(buffer);\n",
              "            downloaded += buffer.byteLength;\n",
              "            progress.value = downloaded;\n",
              "          }\n",
              "        }\n",
              "      }\n",
              "      const blob = new Blob(buffers, {type: 'application/binary'});\n",
              "      const a = document.createElement('a');\n",
              "      a.href = window.URL.createObjectURL(blob);\n",
              "      a.download = filename;\n",
              "      div.appendChild(a);\n",
              "      a.click();\n",
              "      div.remove();\n",
              "    }\n",
              "  "
            ]
          },
          "metadata": {}
        },
        {
          "output_type": "display_data",
          "data": {
            "text/plain": [
              "<IPython.core.display.Javascript object>"
            ],
            "application/javascript": [
              "download(\"download_1114bb44-ee07-4f60-80a6-9a62e53d8275\", \"memn2n_150_epochs.h5\", 362456)"
            ]
          },
          "metadata": {}
        }
      ],
      "source": [
        "from google.colab import files\n",
        "files.download(filename)"
      ]
    }
  ],
  "metadata": {
    "accelerator": "TPU",
    "colab": {
      "gpuType": "V28",
      "provenance": []
    },
    "kernelspec": {
      "display_name": "Chatbot-Yes-No-Question-lJ-2E43I",
      "language": "python",
      "name": "python3"
    },
    "language_info": {
      "codemirror_mode": {
        "name": "ipython",
        "version": 3
      },
      "file_extension": ".py",
      "mimetype": "text/x-python",
      "name": "python",
      "nbconvert_exporter": "python",
      "pygments_lexer": "ipython3",
      "version": "3.10.11"
    }
  },
  "nbformat": 4,
  "nbformat_minor": 0
}